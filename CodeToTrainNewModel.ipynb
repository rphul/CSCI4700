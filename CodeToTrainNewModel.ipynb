{
 "cells": [
  {
   "cell_type": "code",
   "execution_count": 5,
   "metadata": {},
   "outputs": [],
   "source": [
    "import keras\n",
    "from keras import backend as K\n",
    "import numpy as np\n",
    "from keras.preprocessing import image\n",
    "import matplotlib.pyplot as plt\n",
    "from mpl_toolkits.mplot3d import axes3d\n",
    "%matplotlib inline\n",
    "from IPython.display import display\n",
    "\n",
    "import os, sys, csv"
   ]
  },
  {
   "cell_type": "code",
   "execution_count": 6,
   "metadata": {},
   "outputs": [],
   "source": [
    "gooddir = './training_image_set_2/goodImgs'\n",
    "baddir = './training_image_set_2/badImgs'\n",
    "goodImgs = os.listdir(gooddir)\n",
    "badImgs = os.listdir(baddir)"
   ]
  },
  {
   "cell_type": "code",
   "execution_count": 7,
   "metadata": {},
   "outputs": [],
   "source": [
    "goodImgs.sort()\n",
    "badImgs.sort()"
   ]
  },
  {
   "cell_type": "code",
   "execution_count": 8,
   "metadata": {},
   "outputs": [],
   "source": [
    "i = 0\n",
    "trainingGood = []\n",
    "testingGood = []\n",
    "trainingBad = []\n",
    "testingBad = []\n",
    "for f in goodImgs:\n",
    "    if i % 2 == 0:\n",
    "        trainingGood.append(f)\n",
    "    elif i % 2 != 0:\n",
    "        testingGood.append(f)\n",
    "    i += 1"
   ]
  },
  {
   "cell_type": "code",
   "execution_count": 9,
   "metadata": {},
   "outputs": [],
   "source": [
    "j = 0\n",
    "trainingBad = []\n",
    "testingBad = []\n",
    "for f in badImgs:\n",
    "    if j % 2 == 0:\n",
    "        trainingBad.append(f)\n",
    "    elif j % 2 != 0:\n",
    "        testingBad.append(f)\n",
    "    j += 1"
   ]
  },
  {
   "cell_type": "code",
   "execution_count": 10,
   "metadata": {},
   "outputs": [],
   "source": [
    "def grab_image(img_path):\n",
    "    #path = dirs+'/'+img_path\n",
    "    img = image.load_img(img_path, target_size=(128, 128), color_mode = \"grayscale\")\n",
    "    x = image.img_to_array(img)\n",
    "    x = np.expand_dims(x, axis=0)\n",
    "    return x"
   ]
  },
  {
   "cell_type": "code",
   "execution_count": 11,
   "metadata": {},
   "outputs": [],
   "source": [
    "trainingGoodArr = np.concatenate([grab_image('./training_image_set_2/goodImgs/'+f) for f in trainingGood])\n",
    "testingGoodArr = np.concatenate([grab_image('./training_image_set_2/goodImgs/'+f) for f in testingGood])\n",
    "trainingBadArr = np.concatenate([grab_image('./training_image_set_2/badImgs/'+f) for f in trainingBad])\n",
    "testingBadArr = np.concatenate([grab_image('./training_image_set_2/badImgs/'+f) for f in testingBad])"
   ]
  },
  {
   "cell_type": "code",
   "execution_count": 12,
   "metadata": {},
   "outputs": [],
   "source": [
    "training = np.concatenate((trainingGoodArr, trainingBadArr))\n",
    "testing = np.concatenate((testingGoodArr, testingBadArr))"
   ]
  },
  {
   "cell_type": "code",
   "execution_count": 13,
   "metadata": {},
   "outputs": [],
   "source": [
    "import csv\n",
    "goodCSVData = ['0']\n",
    "badCSVData = ['1']\n",
    "with open('labels2.csv', 'w') as csvFile:\n",
    "    writer = csv.writer(csvFile)\n",
    "    for i in trainingGood: #goodtrain\n",
    "        writer.writerows(goodCSVData)\n",
    "    for i in trainingBad: #badtrain\n",
    "        writer.writerows(badCSVData)\n",
    "    for i in testingGood:\n",
    "        writer.writerows(goodCSVData)\n",
    "    for i in testingBad:\n",
    "        writer.writerows(badCSVData)\n",
    "csvFile.close()"
   ]
  },
  {
   "cell_type": "code",
   "execution_count": 14,
   "metadata": {},
   "outputs": [],
   "source": [
    "labels = []\n",
    "with open('labels2.csv') as csvfile:\n",
    "    readCSV = csv.reader(csvfile, delimiter='\\n')\n",
    "    for row in readCSV:\n",
    "        labels.append(row[0])"
   ]
  },
  {
   "cell_type": "code",
   "execution_count": 15,
   "metadata": {},
   "outputs": [
    {
     "data": {
      "text/plain": [
       "(273, 2)"
      ]
     },
     "execution_count": 15,
     "metadata": {},
     "output_type": "execute_result"
    }
   ],
   "source": [
    "Y = keras.utils.to_categorical(labels)\n",
    "Y.shape"
   ]
  },
  {
   "cell_type": "code",
   "execution_count": 16,
   "metadata": {},
   "outputs": [
    {
     "name": "stdout",
     "output_type": "stream",
     "text": [
      "137\n",
      "136\n"
     ]
    }
   ],
   "source": [
    "n = 0\n",
    "m = 0\n",
    "for f in trainingGood:\n",
    "    n += 1\n",
    "for f in trainingBad:\n",
    "    n += 1\n",
    "for f in testingGood:\n",
    "    m += 1\n",
    "for f in testingBad:\n",
    "    m += 1\n",
    "print(n)\n",
    "print(m)"
   ]
  },
  {
   "cell_type": "code",
   "execution_count": 17,
   "metadata": {},
   "outputs": [
    {
     "name": "stdout",
     "output_type": "stream",
     "text": [
      "(137, 128, 128, 1)\n",
      "(136, 128, 128, 1)\n",
      "(137, 2)\n",
      "(136, 2)\n"
     ]
    }
   ],
   "source": [
    "train_labels = Y[ : n]\n",
    "test_labels = Y[n :]\n",
    "print(training.shape)\n",
    "print(testing.shape)\n",
    "print(train_labels.shape)\n",
    "print(test_labels.shape)"
   ]
  },
  {
   "cell_type": "code",
   "execution_count": 18,
   "metadata": {},
   "outputs": [
    {
     "name": "stdout",
     "output_type": "stream",
     "text": [
      "_________________________________________________________________\n",
      "Layer (type)                 Output Shape              Param #   \n",
      "=================================================================\n",
      "conv2d_1 (Conv2D)            (None, 126, 126, 64)      640       \n",
      "_________________________________________________________________\n",
      "max_pooling2d_1 (MaxPooling2 (None, 63, 63, 64)        0         \n",
      "_________________________________________________________________\n",
      "conv2d_2 (Conv2D)            (None, 61, 61, 64)        36928     \n",
      "_________________________________________________________________\n",
      "elu_1 (ELU)                  (None, 61, 61, 64)        0         \n",
      "_________________________________________________________________\n",
      "conv2d_3 (Conv2D)            (None, 59, 59, 64)        36928     \n",
      "_________________________________________________________________\n",
      "max_pooling2d_2 (MaxPooling2 (None, 29, 29, 64)        0         \n",
      "_________________________________________________________________\n",
      "flatten_1 (Flatten)          (None, 53824)             0         \n",
      "_________________________________________________________________\n",
      "dense_1 (Dense)              (None, 2)                 107650    \n",
      "=================================================================\n",
      "Total params: 182,146\n",
      "Trainable params: 182,146\n",
      "Non-trainable params: 0\n",
      "_________________________________________________________________\n"
     ]
    }
   ],
   "source": [
    "model = keras.Sequential()\n",
    "model.add(keras.layers.Conv2D(64, kernel_size=(3,3),\n",
    "                              activation='relu',\n",
    "                              input_shape=[training.shape[1],\n",
    "                                           training.shape[2],\n",
    "                                           training.shape[3]]))\n",
    "model.add(keras.layers.MaxPooling2D(pool_size=(2, 2)))\n",
    "model.add(keras.layers.Conv2D(64, (3, 3), activation='relu', input_shape=(128,128,1)))\n",
    "model.add(keras.layers.ELU())\n",
    "model.add(keras.layers.Conv2D(64, (3, 3), activation='relu', input_shape=(128,128,1)))\n",
    "model.add(keras.layers.MaxPooling2D(pool_size=(2, 2)))\n",
    "model.add(keras.layers.Flatten())\n",
    "\n",
    "\n",
    "\n",
    "\n",
    "model.add(keras.layers.Dense(2, activation='softmax'))\n",
    "\n",
    "model.compile(loss=keras.losses.categorical_crossentropy,\n",
    "              optimizer=keras.optimizers.Adam(lr = 0.0001),\n",
    "              metrics=['accuracy'])\n",
    "model.summary()"
   ]
  },
  {
   "cell_type": "code",
   "execution_count": 19,
   "metadata": {},
   "outputs": [
    {
     "name": "stdout",
     "output_type": "stream",
     "text": [
      "WARNING:tensorflow:From /nfshome/apps/python-3.6.7/lib/python3.6/site-packages/tensorflow/python/ops/math_ops.py:3066: to_int32 (from tensorflow.python.ops.math_ops) is deprecated and will be removed in a future version.\n",
      "Instructions for updating:\n",
      "Use tf.cast instead.\n",
      "Train on 109 samples, validate on 28 samples\n",
      "Epoch 1/10\n",
      "109/109 [==============================] - 10s 93ms/step - loss: 0.8576 - acc: 0.7156 - val_loss: 4.1011 - val_acc: 0.1071\n",
      "Epoch 2/10\n",
      "109/109 [==============================] - 9s 80ms/step - loss: 0.4095 - acc: 0.8440 - val_loss: 1.8483 - val_acc: 0.4643\n",
      "Epoch 3/10\n",
      "109/109 [==============================] - 9s 79ms/step - loss: 0.1513 - acc: 0.9725 - val_loss: 2.6087 - val_acc: 0.3571\n",
      "Epoch 4/10\n",
      "109/109 [==============================] - 9s 79ms/step - loss: 0.0455 - acc: 1.0000 - val_loss: 1.7459 - val_acc: 0.5000\n",
      "Epoch 5/10\n",
      "109/109 [==============================] - 9s 79ms/step - loss: 0.0220 - acc: 1.0000 - val_loss: 1.1751 - val_acc: 0.6429\n",
      "Epoch 6/10\n",
      "109/109 [==============================] - 9s 79ms/step - loss: 0.0165 - acc: 1.0000 - val_loss: 1.1639 - val_acc: 0.6429\n",
      "Epoch 7/10\n",
      "109/109 [==============================] - 9s 80ms/step - loss: 0.0109 - acc: 1.0000 - val_loss: 0.9007 - val_acc: 0.7500\n",
      "Epoch 8/10\n",
      "109/109 [==============================] - 9s 80ms/step - loss: 0.0067 - acc: 1.0000 - val_loss: 0.7214 - val_acc: 0.8214\n",
      "Epoch 9/10\n",
      "109/109 [==============================] - 9s 81ms/step - loss: 0.0046 - acc: 1.0000 - val_loss: 0.6956 - val_acc: 0.8214\n",
      "Epoch 10/10\n",
      "109/109 [==============================] - 9s 78ms/step - loss: 0.0032 - acc: 1.0000 - val_loss: 0.5995 - val_acc: 0.8214\n"
     ]
    }
   ],
   "source": [
    "batch_size = 5\n",
    "epochs = 10\n",
    "history = model.fit(training, train_labels,\n",
    "          batch_size=batch_size,\n",
    "          epochs=epochs,\n",
    "          verbose=1,\n",
    "          validation_split = 0.2)"
   ]
  },
  {
   "cell_type": "code",
   "execution_count": 20,
   "metadata": {},
   "outputs": [
    {
     "name": "stdout",
     "output_type": "stream",
     "text": [
      "136/136 [==============================] - 2s 11ms/step\n",
      "Test loss: 0.31926756571320924\n",
      "Test accuracy: 0.9117647058823529\n"
     ]
    }
   ],
   "source": [
    "score = model.evaluate(testing, test_labels, verbose=1)\n",
    "print('Test loss:', score[0])\n",
    "print('Test accuracy:', score[1])"
   ]
  },
  {
   "cell_type": "code",
   "execution_count": 21,
   "metadata": {},
   "outputs": [
    {
     "data": {
      "image/png": "[encoded data removed]",
      "text/plain": [
       "<Figure size 432x288 with 2 Axes>"
      ]
     },
     "metadata": {
      "needs_background": "light"
     },
     "output_type": "display_data"
    }
   ],
   "source": [
    "plt.figure(1)  \n",
    "  \n",
    "# summarize history for accuracy  \n",
    "   \n",
    "plt.subplot(211)  \n",
    "plt.plot(history.history['acc'])  \n",
    "plt.plot(history.history['val_acc'])  \n",
    "plt.title('model accuracy')  \n",
    "plt.ylabel('accuracy')  \n",
    "plt.xlabel('epoch')  \n",
    "plt.legend(['train', 'test'], loc='upper left')  \n",
    "   \n",
    "# summarize history for loss  \n",
    "   \n",
    "plt.subplot(212)  \n",
    "plt.plot(history.history['loss'])  \n",
    "plt.plot(history.history['val_loss'])  \n",
    "plt.title('model loss')  \n",
    "plt.ylabel('loss')  \n",
    "plt.xlabel('epoch')  \n",
    "plt.legend(['train', 'test'], loc='upper left') \n",
    "\n",
    "plt.tight_layout()\n",
    "plt.show()  "
   ]
  },
  {
   "cell_type": "code",
   "execution_count": 2,
   "metadata": {},
   "outputs": [
    {
     "name": "stdout",
     "output_type": "stream",
     "text": [
      "WARNING:tensorflow:From /nfshome/apps/python-3.6.7/lib/python3.6/site-packages/tensorflow/python/framework/op_def_library.py:263: colocate_with (from tensorflow.python.framework.ops) is deprecated and will be removed in a future version.\n",
      "Instructions for updating:\n",
      "Colocations handled automatically by placer.\n"
     ]
    }
   ],
   "source": [
    "from keras.models import model_from_json\n",
    "\n",
    "# serialize model to JSON\n",
    "#model_json = model.to_json()\n",
    "#with open(\"model3.json\", \"w\") as json_file:\n",
    "#    json_file.write(model_json)\n",
    "# serialize weights to HDF5\n",
    "#model.save_weights(\"model3.h5\")\n",
    "#print(\"Saved model to disk\")\n",
    " \n",
    "# later...\n",
    " \n",
    "# load json and create model\n",
    "json_file = open('model2.json', 'r')\n",
    "loaded_model_json = json_file.read()\n",
    "json_file.close()\n",
    "loaded_model = model_from_json(loaded_model_json)\n",
    "# load weights into new model\n",
    "loaded_model.load_weights(\"model2.h5\")\n",
    "#print(\"Loaded model from disk\")\n",
    "\n",
    "# evaluate loaded model on test data\n",
    "#loaded_model.compile(loss=keras.losses.categorical_crossentropy,\n",
    "#              optimizer=keras.optimizers.Adam(),\n",
    "#              metrics=['accuracy'])\n",
    "#score = loaded_model.evaluate(data_test, data_test_labels, verbose=1)\n",
    "#print('Test loss:', score[0])\n",
    "#print('Test accuracy:', score[1])"
   ]
  },
  {
   "cell_type": "code",
   "execution_count": 4,
   "metadata": {},
   "outputs": [
    {
     "data": {
      "image/svg+xml": [
       "<svg height=\"629pt\" viewBox=\"0.00 0.00 222.00 629.00\" width=\"222pt\" xmlns=\"http://www.w3.org/2000/svg\" xmlns:xlink=\"http://www.w3.org/1999/xlink\">\n",
       "<g class=\"graph\" id=\"graph0\" transform=\"scale(1 1) rotate(0) translate(4 625)\">\n",
       "<title>G</title>\n",
       "<polygon fill=\"white\" points=\"-4,4 -4,-625 218,-625 218,4 -4,4\" stroke=\"none\"/>\n",
       "<!-- 139740177714144 -->\n",
       "<g class=\"node\" id=\"node1\"><title>139740177714144</title>\n",
       "<polygon fill=\"none\" points=\"42,-511.5 42,-547.5 172,-547.5 172,-511.5 42,-511.5\" stroke=\"black\"/>\n",
       "<text font-family=\"Times,serif\" font-size=\"14.00\" text-anchor=\"middle\" x=\"107\" y=\"-525.8\">conv2d_51: Conv2D</text>\n",
       "</g>\n",
       "<!-- 139740177748040 -->\n",
       "<g class=\"node\" id=\"node2\"><title>139740177748040</title>\n",
       "<polygon fill=\"none\" points=\"-1.42109e-14,-438.5 -1.42109e-14,-474.5 214,-474.5 214,-438.5 -1.42109e-14,-438.5\" stroke=\"black\"/>\n",
       "<text font-family=\"Times,serif\" font-size=\"14.00\" text-anchor=\"middle\" x=\"107\" y=\"-452.8\">max_pooling2d_34: MaxPooling2D</text>\n",
       "</g>\n",
       "<!-- 139740177714144&#45;&gt;139740177748040 -->\n",
       "<g class=\"edge\" id=\"edge2\"><title>139740177714144-&gt;139740177748040</title>\n",
       "<path d=\"M107,-511.313C107,-503.289 107,-493.547 107,-484.569\" fill=\"none\" stroke=\"black\"/>\n",
       "<polygon fill=\"black\" points=\"110.5,-484.529 107,-474.529 103.5,-484.529 110.5,-484.529\" stroke=\"black\"/>\n",
       "</g>\n",
       "<!-- 139740168977040 -->\n",
       "<g class=\"node\" id=\"node3\"><title>139740168977040</title>\n",
       "<polygon fill=\"none\" points=\"42,-365.5 42,-401.5 172,-401.5 172,-365.5 42,-365.5\" stroke=\"black\"/>\n",
       "<text font-family=\"Times,serif\" font-size=\"14.00\" text-anchor=\"middle\" x=\"107\" y=\"-379.8\">conv2d_52: Conv2D</text>\n",
       "</g>\n",
       "<!-- 139740177748040&#45;&gt;139740168977040 -->\n",
       "<g class=\"edge\" id=\"edge3\"><title>139740177748040-&gt;139740168977040</title>\n",
       "<path d=\"M107,-438.313C107,-430.289 107,-420.547 107,-411.569\" fill=\"none\" stroke=\"black\"/>\n",
       "<polygon fill=\"black\" points=\"110.5,-411.529 107,-401.529 103.5,-411.529 110.5,-411.529\" stroke=\"black\"/>\n",
       "</g>\n",
       "<!-- 139740168977992 -->\n",
       "<g class=\"node\" id=\"node4\"><title>139740168977992</title>\n",
       "<polygon fill=\"none\" points=\"67,-292.5 67,-328.5 147,-328.5 147,-292.5 67,-292.5\" stroke=\"black\"/>\n",
       "<text font-family=\"Times,serif\" font-size=\"14.00\" text-anchor=\"middle\" x=\"107\" y=\"-306.8\">elu_6: ELU</text>\n",
       "</g>\n",
       "<!-- 139740168977040&#45;&gt;139740168977992 -->\n",
       "<g class=\"edge\" id=\"edge4\"><title>139740168977040-&gt;139740168977992</title>\n",
       "<path d=\"M107,-365.313C107,-357.289 107,-347.547 107,-338.569\" fill=\"none\" stroke=\"black\"/>\n",
       "<polygon fill=\"black\" points=\"110.5,-338.529 107,-328.529 103.5,-338.529 110.5,-338.529\" stroke=\"black\"/>\n",
       "</g>\n",
       "<!-- 139740177748208 -->\n",
       "<g class=\"node\" id=\"node5\"><title>139740177748208</title>\n",
       "<polygon fill=\"none\" points=\"42,-219.5 42,-255.5 172,-255.5 172,-219.5 42,-219.5\" stroke=\"black\"/>\n",
       "<text font-family=\"Times,serif\" font-size=\"14.00\" text-anchor=\"middle\" x=\"107\" y=\"-233.8\">conv2d_53: Conv2D</text>\n",
       "</g>\n",
       "<!-- 139740168977992&#45;&gt;139740177748208 -->\n",
       "<g class=\"edge\" id=\"edge5\"><title>139740168977992-&gt;139740177748208</title>\n",
       "<path d=\"M107,-292.313C107,-284.289 107,-274.547 107,-265.569\" fill=\"none\" stroke=\"black\"/>\n",
       "<polygon fill=\"black\" points=\"110.5,-265.529 107,-255.529 103.5,-265.529 110.5,-265.529\" stroke=\"black\"/>\n",
       "</g>\n",
       "<!-- 139740168714168 -->\n",
       "<g class=\"node\" id=\"node6\"><title>139740168714168</title>\n",
       "<polygon fill=\"none\" points=\"-1.42109e-14,-146.5 -1.42109e-14,-182.5 214,-182.5 214,-146.5 -1.42109e-14,-146.5\" stroke=\"black\"/>\n",
       "<text font-family=\"Times,serif\" font-size=\"14.00\" text-anchor=\"middle\" x=\"107\" y=\"-160.8\">max_pooling2d_35: MaxPooling2D</text>\n",
       "</g>\n",
       "<!-- 139740177748208&#45;&gt;139740168714168 -->\n",
       "<g class=\"edge\" id=\"edge6\"><title>139740177748208-&gt;139740168714168</title>\n",
       "<path d=\"M107,-219.313C107,-211.289 107,-201.547 107,-192.569\" fill=\"none\" stroke=\"black\"/>\n",
       "<polygon fill=\"black\" points=\"110.5,-192.529 107,-182.529 103.5,-192.529 110.5,-192.529\" stroke=\"black\"/>\n",
       "</g>\n",
       "<!-- 139740169142624 -->\n",
       "<g class=\"node\" id=\"node7\"><title>139740169142624</title>\n",
       "<polygon fill=\"none\" points=\"49,-73.5 49,-109.5 165,-109.5 165,-73.5 49,-73.5\" stroke=\"black\"/>\n",
       "<text font-family=\"Times,serif\" font-size=\"14.00\" text-anchor=\"middle\" x=\"107\" y=\"-87.8\">flatten_23: Flatten</text>\n",
       "</g>\n",
       "<!-- 139740168714168&#45;&gt;139740169142624 -->\n",
       "<g class=\"edge\" id=\"edge7\"><title>139740168714168-&gt;139740169142624</title>\n",
       "<path d=\"M107,-146.313C107,-138.289 107,-128.547 107,-119.569\" fill=\"none\" stroke=\"black\"/>\n",
       "<polygon fill=\"black\" points=\"110.5,-119.529 107,-109.529 103.5,-119.529 110.5,-119.529\" stroke=\"black\"/>\n",
       "</g>\n",
       "<!-- 139740168808824 -->\n",
       "<g class=\"node\" id=\"node8\"><title>139740168808824</title>\n",
       "<polygon fill=\"none\" points=\"52.5,-0.5 52.5,-36.5 161.5,-36.5 161.5,-0.5 52.5,-0.5\" stroke=\"black\"/>\n",
       "<text font-family=\"Times,serif\" font-size=\"14.00\" text-anchor=\"middle\" x=\"107\" y=\"-14.8\">dense_23: Dense</text>\n",
       "</g>\n",
       "<!-- 139740169142624&#45;&gt;139740168808824 -->\n",
       "<g class=\"edge\" id=\"edge8\"><title>139740169142624-&gt;139740168808824</title>\n",
       "<path d=\"M107,-73.3129C107,-65.2895 107,-55.5475 107,-46.5691\" fill=\"none\" stroke=\"black\"/>\n",
       "<polygon fill=\"black\" points=\"110.5,-46.5288 107,-36.5288 103.5,-46.5289 110.5,-46.5288\" stroke=\"black\"/>\n",
       "</g>\n",
       "<!-- 139740177714200 -->\n",
       "<g class=\"node\" id=\"node9\"><title>139740177714200</title>\n",
       "<polygon fill=\"none\" points=\"48,-584.5 48,-620.5 166,-620.5 166,-584.5 48,-584.5\" stroke=\"black\"/>\n",
       "<text font-family=\"Times,serif\" font-size=\"14.00\" text-anchor=\"middle\" x=\"107\" y=\"-598.8\">139740177714200</text>\n",
       "</g>\n",
       "<!-- 139740177714200&#45;&gt;139740177714144 -->\n",
       "<g class=\"edge\" id=\"edge1\"><title>139740177714200-&gt;139740177714144</title>\n",
       "<path d=\"M107,-584.313C107,-576.289 107,-566.547 107,-557.569\" fill=\"none\" stroke=\"black\"/>\n",
       "<polygon fill=\"black\" points=\"110.5,-557.529 107,-547.529 103.5,-557.529 110.5,-557.529\" stroke=\"black\"/>\n",
       "</g>\n",
       "</g>\n",
       "</svg>"
      ],
      "text/plain": [
       "<IPython.core.display.SVG object>"
      ]
     },
     "execution_count": 4,
     "metadata": {},
     "output_type": "execute_result"
    }
   ],
   "source": [
    "from IPython.display import SVG\n",
    "from keras.utils.vis_utils import model_to_dot\n",
    "\n",
    "SVG(model_to_dot(loaded_model).create(prog = 'dot', format = 'svg'))"
   ]
  },
  {
   "cell_type": "code",
   "execution_count": 39,
   "metadata": {},
   "outputs": [],
   "source": [
    "#a = os.listdir('./training_image_set_2/goodImgs')\n",
    "#for f in a:\n",
    "#    i = grab_image('./training_image_set_2/goodImgs/'+f)\n",
    "#    print('File name:', f, ' Prediction:', model.predict(i))\n",
    "    \n",
    "#print('/n/n/n/n')\n",
    "\n",
    "#b = os.listdir('./training_image_set_2/badImgs')\n",
    "#for f in b:\n",
    "#    i = grab_image('./training_image_set_2/badImgs/'+f)\n",
    "#    print('File name:', f, ' Prediction:', model.predict(i))"
   ]
  },
  {
   "cell_type": "code",
   "execution_count": null,
   "metadata": {},
   "outputs": [],
   "source": []
  }
 ],
 "metadata": {
  "kernelspec": {
   "display_name": "Python 3",
   "language": "python",
   "name": "python3"
  },
  "language_info": {
   "codemirror_mode": {
    "name": "ipython",
    "version": 3
   },
   "file_extension": ".py",
   "mimetype": "text/x-python",
   "name": "python",
   "nbconvert_exporter": "python",
   "pygments_lexer": "ipython3",
   "version": "3.6.7"
  }
 },
 "nbformat": 4,
 "nbformat_minor": 2
}
