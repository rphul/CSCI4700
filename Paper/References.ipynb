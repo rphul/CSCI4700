{
 "cells": [
  {
   "cell_type": "markdown",
   "metadata": {},
   "source": [
    "@article{b1,\n",
    "  author = \"Thung, Gary, and Yang, Mindy.\",\n",
    "   title = “Dataset of images of trash; Torch-based CNN for garbage image classification.”,\n",
    " journal = \"Github\",\n",
    "  volume = \n",
    "    year = 2017\n",
    "   pages = \n",
    "}"
   ]
  },
  {
   "cell_type": "raw",
   "metadata": {},
   "source": [
    "@article{b2,\n",
    "  author = \"Sylvester, Ron\",\n",
    "   title = “What Waste Connections does with your unsorted recycling”,\n",
    " journal = \"The Wichita Eagle\",\n",
    "  volume = \n",
    "    year = 2011\n",
    "   pages = \n",
    "}"
   ]
  },
  {
   "cell_type": "raw",
   "metadata": {},
   "source": [
    "@article{b3,\n",
    "  author = \"Reddi, Sashank, et al\",\n",
    "   title = “On the Convergence of Adam and Beyond.”,\n",
    " journal = International Conference on Learning Representations,\n",
    "  volume = \n",
    "    year = 2018\n",
    "   pages = \n",
    "}"
   ]
  },
  {
   "cell_type": "raw",
   "metadata": {},
   "source": [
    "@article{b4,\n",
    "  author = \"B., Nikhil\" ,\n",
    "   title = “Image Data Pre-Processing for Neural Networks.”,\n",
    " journal =  Becoming Human: Artificial Intelligence Magazine,\n",
    "  volume = \n",
    "    year = 2017\n",
    "   pages = \n",
    "}"
   ]
  },
  {
   "cell_type": "raw",
   "metadata": {},
   "source": [
    "@article{b5,\n",
    "    author = \"Miranda, Conrado, and Von Zuben, Fernando\",\n",
    "    title =  “Reducing the Training Time of Neural Networks by Partitioning.”,\n",
    "    journal = \"School of Electrical and Computer Engineering. University of Campinas, Brazil. 2016\"\n",
    "}"
   ]
  },
  {
   "cell_type": "raw",
   "metadata": {},
   "source": [
    "@article{b6,\n",
    "   title = “How to increase validation accuracy with deep neural net?”,\n",
    " journal = \"Stack Overflow\",\n",
    "    year = 2016,\n",
    "}   "
   ]
  },
  {
   "cell_type": "raw",
   "metadata": {},
   "source": [
    "@article{b7,\n",
    "  author = \"Cook, John\",\n",
    "   title =  “Three algorithms for converting color to grayscale.”,\n",
    " journal = \"John D. Cook Consulting\",\n",
    "    year = 2009\n",
    "}"
   ]
  },
  {
   "cell_type": "raw",
   "metadata": {},
   "source": [
    "@article{b8,\n",
    "  author = \"Tompson, Johnathan, et al.\",\n",
    "   title =  “Efficient Object Localization Using Convolutional Networks.”,\n",
    " journal = \"New York University\",\n",
    "    year = 2015\n",
    "}"
   ]
  },
  {
   "cell_type": "raw",
   "metadata": {},
   "source": [
    "@unpublished{b9,\n",
    "  author = \"Keras Documentation\",\n",
    "   title =  “Core Layers.”,\n",
    "}"
   ]
  },
  {
   "cell_type": "raw",
   "metadata": {},
   "source": [
    "@article{b10,\n",
    "  author = \"Reddi, Sashank, et al.\",\n",
    "   title =  “On the Convergence of Adam and Beyond.”,\n",
    " journal = \"International Conference on Learning Representations.\",\n",
    "    year = 2018\n",
    "}"
   ]
  },
  {
   "cell_type": "code",
   "execution_count": null,
   "metadata": {},
   "outputs": [],
   "source": []
  }
 ],
 "metadata": {
  "kernelspec": {
   "display_name": "Python 3",
   "language": "python",
   "name": "python3"
  },
  "language_info": {
   "codemirror_mode": {
    "name": "ipython",
    "version": 3
   },
   "file_extension": ".py",
   "mimetype": "text/x-python",
   "name": "python",
   "nbconvert_exporter": "python",
   "pygments_lexer": "ipython3",
   "version": "3.6.7"
  }
 },
 "nbformat": 4,
 "nbformat_minor": 2
}
